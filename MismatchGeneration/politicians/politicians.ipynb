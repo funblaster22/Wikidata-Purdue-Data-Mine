{
 "cells": [
  {
   "cell_type": "code",
   "execution_count": 1,
   "id": "364e73e8-498f-4ddf-91bb-af0c31114a03",
   "metadata": {},
   "outputs": [],
   "source": [
    "import pandas as pd\n",
    "import requests\n",
    "import json\n",
    "from tqdm import tqdm"
   ]
  },
  {
   "cell_type": "code",
   "execution_count": 2,
   "id": "15a4ae3d-41a7-4341-ac54-bdd03b70827d",
   "metadata": {},
   "outputs": [
    {
     "data": {
      "text/html": [
       "\n",
       "                <script type=\"application/javascript\" id=\"jupyter_black\">\n",
       "                (function() {\n",
       "                    if (window.IPython === undefined) {\n",
       "                        return\n",
       "                    }\n",
       "                    var msg = \"WARNING: it looks like you might have loaded \" +\n",
       "                        \"jupyter_black in a non-lab notebook with \" +\n",
       "                        \"`is_lab=True`. Please double check, and if \" +\n",
       "                        \"loading with `%load_ext` please review the README!\"\n",
       "                    console.log(msg)\n",
       "                    alert(msg)\n",
       "                })()\n",
       "                </script>\n",
       "                "
      ],
      "text/plain": [
       "<IPython.core.display.HTML object>"
      ]
     },
     "metadata": {},
     "output_type": "display_data"
    }
   ],
   "source": [
    "%load_ext jupyter_black"
   ]
  },
  {
   "cell_type": "markdown",
   "id": "009cc413-9a82-47d5-be59-b3d254d47c98",
   "metadata": {},
   "source": [
    "## Determine join property & fetch all eligable external ids"
   ]
  },
  {
   "cell_type": "code",
   "execution_count": 3,
   "id": "e2654084-4e28-40f3-936d-ae2ca73bd30e",
   "metadata": {},
   "outputs": [
    {
     "name": "stdin",
     "output_type": "stream",
     "text": [
      "What property are you going to join the tables on? P10660\n"
     ]
    }
   ],
   "source": [
    "joinProp = input(\"What property are you going to join the tables on?\")\n",
    "try:\n",
    "    with open(\"colNamePid.json\", \"r\") as file:\n",
    "        config = json.load(file)\n",
    "except FileNotFoundError:\n",
    "    config = {}\n",
    "with open(\"colNamePid.json\", \"w\") as file:\n",
    "    config[\"__joinProp\"] = joinProp\n",
    "    json.dump(config, file)"
   ]
  },
  {
   "cell_type": "code",
   "execution_count": 21,
   "id": "018ac8fc-4bdb-4e6a-98d9-da7d6b9487da",
   "metadata": {},
   "outputs": [],
   "source": [
    "with open(\"template.rq\", \"r\") as file:\n",
    "    template = file.read()\n",
    "\n",
    "\n",
    "def downloadTemplate(\n",
    "    joinProp: str,\n",
    "    filename: str,\n",
    "    pData=None,\n",
    "    *,\n",
    "    constraints=\"\",\n",
    "    inclName=False,\n",
    "    inclJoin=False\n",
    "):\n",
    "    # Only allow retrieving one extra column at a time\n",
    "    assert (bool(pData) ^ inclName) | (inclName ^ inclJoin)\n",
    "    selection = \"\"\n",
    "    if inclName:\n",
    "        selection = \"(?_name AS ?name)\"\n",
    "        constraints += '\\n ?_qid rdfs:label ?_name . FILTER (LANG(?_name) = \"en\")'\n",
    "    if pData is not None or inclJoin:\n",
    "        selection = \"(str(COALESCE(?_target_col_label, ?_target_col)) AS ?target_col) (SUBSTR(STR(?_target_col_guid), 42) AS ?target_col_guid)\"\n",
    "    if pData is None:\n",
    "        pData = joinProp\n",
    "\n",
    "    # I love SQL injection attacks!\n",
    "    query = (\n",
    "        template.replace(\"#< selection >#\", selection)\n",
    "        .replace(\"PJOIN\", joinProp)\n",
    "        .replace(\"PDATA\", pData)\n",
    "        .replace(\"#< Extra constraints >#\", constraints)\n",
    "    )\n",
    "    print(query)\n",
    "\n",
    "    url = \"https://qlever.cs.uni-freiburg.de/api/wikidata\"\n",
    "    params = {\"query\": query, \"action\": \"tsv_export\"}\n",
    "\n",
    "    response = requests.get(url, params=params)\n",
    "\n",
    "    if response.status_code == 200:  # If the request was successful\n",
    "        with open(filename + \".tsv\", \"wb\") as f:\n",
    "            f.write(response.content)\n",
    "        print(\"File downloaded successfully!\")\n",
    "    else:\n",
    "        print(\"Failed to download file. Status code:\", response.status_code)"
   ]
  },
  {
   "cell_type": "code",
   "execution_count": 19,
   "id": "c2554a55-001c-44b2-8d58-9eeba03f6af3",
   "metadata": {},
   "outputs": [
    {
     "name": "stdout",
     "output_type": "stream",
     "text": [
      "PREFIX rdfs: <http://www.w3.org/2000/01/rdf-schema#>\n",
      "PREFIX p: <http://www.wikidata.org/prop/>\n",
      "PREFIX ps: <http://www.wikidata.org/prop/statement/>\n",
      "SELECT DISTINCT (SUBSTR(STR(?_qid), 32) AS ?qid)  (?_name AS ?name)\n",
      "WHERE {\n",
      "  \n",
      " ?_qid rdfs:label ?_name . FILTER (LANG(?_name) = \"en\")\n",
      "  ?_join_col_guid ps:P10660 ?_join_col.\n",
      "  ?_qid p:P10660 ?_join_col_guid.\n",
      "  ?_target_col_guid ps:P10660 ?_target_col.\n",
      "  ?_qid p:P10660 ?_target_col_guid.\n",
      "  OPTIONAL {\n",
      "    ?_target_col rdfs:label ?_target_col_label. \n",
      "    FILTER (LANG(?_target_col_label) = \"en\") \n",
      "  }\n",
      "}\n",
      "File downloaded successfully!\n"
     ]
    }
   ],
   "source": [
    "downloadTemplate(joinProp, \"labels\", inclName=True)"
   ]
  },
  {
   "cell_type": "code",
   "execution_count": 22,
   "id": "7a162536-8ad4-4a62-8541-c4defb6cbf9f",
   "metadata": {},
   "outputs": [
    {
     "name": "stdout",
     "output_type": "stream",
     "text": [
      "PREFIX rdfs: <http://www.w3.org/2000/01/rdf-schema#>\n",
      "PREFIX p: <http://www.wikidata.org/prop/>\n",
      "PREFIX ps: <http://www.wikidata.org/prop/statement/>\n",
      "SELECT DISTINCT (SUBSTR(STR(?_qid), 32) AS ?qid)  (str(COALESCE(?_target_col_label, ?_target_col)) AS ?target_col) (SUBSTR(STR(?_target_col_guid), 42) AS ?target_col_guid)\n",
      "WHERE {\n",
      "  \n",
      "  ?_join_col_guid ps:P10660 ?_join_col.\n",
      "  ?_qid p:P10660 ?_join_col_guid.\n",
      "  ?_target_col_guid ps:P10660 ?_target_col.\n",
      "  ?_qid p:P10660 ?_target_col_guid.\n",
      "  OPTIONAL {\n",
      "    ?_target_col rdfs:label ?_target_col_label. \n",
      "    FILTER (LANG(?_target_col_label) = \"en\") \n",
      "  }\n",
      "}\n",
      "File downloaded successfully!\n"
     ]
    }
   ],
   "source": [
    "downloadTemplate(joinProp, \"joinProp\", inclJoin=True)"
   ]
  },
  {
   "cell_type": "markdown",
   "id": "2b2f182b-febd-4a20-afe2-1381489b7461",
   "metadata": {},
   "source": [
    "## Buisiness logic for retrieving the external db"
   ]
  },
  {
   "cell_type": "code",
   "execution_count": 14,
   "id": "f2a547d0-6c21-40f2-807c-7111bd3a224b",
   "metadata": {},
   "outputs": [],
   "source": [
    "pd.set_option(\"display.max_columns\", None)"
   ]
  },
  {
   "cell_type": "code",
   "execution_count": 15,
   "id": "eba2802c-17c9-4c65-8dd7-90f4ef74f0c0",
   "metadata": {},
   "outputs": [
    {
     "data": {
      "text/html": [
       "<div>\n",
       "<style scoped>\n",
       "    .dataframe tbody tr th:only-of-type {\n",
       "        vertical-align: middle;\n",
       "    }\n",
       "\n",
       "    .dataframe tbody tr th {\n",
       "        vertical-align: top;\n",
       "    }\n",
       "\n",
       "    .dataframe thead th {\n",
       "        text-align: right;\n",
       "    }\n",
       "</style>\n",
       "<table border=\"1\" class=\"dataframe\">\n",
       "  <thead>\n",
       "    <tr style=\"text-align: right;\">\n",
       "      <th></th>\n",
       "      <th>last_name</th>\n",
       "      <th>first_name</th>\n",
       "      <th>middle_name</th>\n",
       "      <th>suffix</th>\n",
       "      <th>nickname</th>\n",
       "      <th>full_name</th>\n",
       "      <th>birthday</th>\n",
       "      <th>gender</th>\n",
       "      <th>type</th>\n",
       "      <th>state</th>\n",
       "      <th>district</th>\n",
       "      <th>senate_class</th>\n",
       "      <th>party</th>\n",
       "      <th>url</th>\n",
       "      <th>address</th>\n",
       "      <th>phone</th>\n",
       "      <th>contact_form</th>\n",
       "      <th>rss_url</th>\n",
       "      <th>twitter</th>\n",
       "      <th>twitter_id</th>\n",
       "      <th>facebook</th>\n",
       "      <th>youtube</th>\n",
       "      <th>youtube_id</th>\n",
       "      <th>mastodon</th>\n",
       "      <th>bioguide_id</th>\n",
       "      <th>thomas_id</th>\n",
       "      <th>opensecrets_id</th>\n",
       "      <th>lis_id</th>\n",
       "      <th>fec_ids</th>\n",
       "      <th>cspan_id</th>\n",
       "      <th>govtrack_id</th>\n",
       "      <th>votesmart_id</th>\n",
       "      <th>ballotpedia_id</th>\n",
       "      <th>washington_post_id</th>\n",
       "      <th>icpsr_id</th>\n",
       "      <th>wikipedia_id</th>\n",
       "    </tr>\n",
       "  </thead>\n",
       "  <tbody>\n",
       "    <tr>\n",
       "      <th>0</th>\n",
       "      <td>Brown</td>\n",
       "      <td>Sherrod</td>\n",
       "      <td>NaN</td>\n",
       "      <td>NaN</td>\n",
       "      <td>NaN</td>\n",
       "      <td>Sherrod Brown</td>\n",
       "      <td>1952-11-09</td>\n",
       "      <td>M</td>\n",
       "      <td>sen</td>\n",
       "      <td>OH</td>\n",
       "      <td>NaN</td>\n",
       "      <td>1.0</td>\n",
       "      <td>Democrat</td>\n",
       "      <td>https://www.brown.senate.gov</td>\n",
       "      <td>503 Hart Senate Office Building Washington DC ...</td>\n",
       "      <td>202-224-2315</td>\n",
       "      <td>https://www.brown.senate.gov/contact/</td>\n",
       "      <td>http://www.brown.senate.gov/rss/feeds/?type=al...</td>\n",
       "      <td>SenSherrodBrown</td>\n",
       "      <td>43910797.0</td>\n",
       "      <td>SenatorSherrodBrown</td>\n",
       "      <td>SherrodBrownOhio</td>\n",
       "      <td>UCgy8jfERh-t_ixkKKoCmglQ</td>\n",
       "      <td>NaN</td>\n",
       "      <td>B000944</td>\n",
       "      <td>136.0</td>\n",
       "      <td>N00003535</td>\n",
       "      <td>S307</td>\n",
       "      <td>H2OH13033,S6OH00163</td>\n",
       "      <td>5051.0</td>\n",
       "      <td>400050</td>\n",
       "      <td>27018.0</td>\n",
       "      <td>Sherrod Brown</td>\n",
       "      <td>NaN</td>\n",
       "      <td>29389.0</td>\n",
       "      <td>Sherrod Brown</td>\n",
       "    </tr>\n",
       "    <tr>\n",
       "      <th>1</th>\n",
       "      <td>Cantwell</td>\n",
       "      <td>Maria</td>\n",
       "      <td>NaN</td>\n",
       "      <td>NaN</td>\n",
       "      <td>NaN</td>\n",
       "      <td>Maria Cantwell</td>\n",
       "      <td>1958-10-13</td>\n",
       "      <td>F</td>\n",
       "      <td>sen</td>\n",
       "      <td>WA</td>\n",
       "      <td>NaN</td>\n",
       "      <td>1.0</td>\n",
       "      <td>Democrat</td>\n",
       "      <td>https://www.cantwell.senate.gov</td>\n",
       "      <td>511 Hart Senate Office Building Washington DC ...</td>\n",
       "      <td>202-224-3441</td>\n",
       "      <td>https://www.cantwell.senate.gov/public/index.c...</td>\n",
       "      <td>http://www.cantwell.senate.gov/public/index.cf...</td>\n",
       "      <td>SenatorCantwell</td>\n",
       "      <td>117501995.0</td>\n",
       "      <td>senatorcantwell</td>\n",
       "      <td>SenatorCantwell</td>\n",
       "      <td>UCN52UDqKgvHRk39ncySrIMw</td>\n",
       "      <td>NaN</td>\n",
       "      <td>C000127</td>\n",
       "      <td>172.0</td>\n",
       "      <td>N00007836</td>\n",
       "      <td>S275</td>\n",
       "      <td>S8WA00194,H2WA01054</td>\n",
       "      <td>26137.0</td>\n",
       "      <td>300018</td>\n",
       "      <td>27122.0</td>\n",
       "      <td>Maria Cantwell</td>\n",
       "      <td>NaN</td>\n",
       "      <td>39310.0</td>\n",
       "      <td>Maria Cantwell</td>\n",
       "    </tr>\n",
       "    <tr>\n",
       "      <th>2</th>\n",
       "      <td>Cardin</td>\n",
       "      <td>Benjamin</td>\n",
       "      <td>L.</td>\n",
       "      <td>NaN</td>\n",
       "      <td>NaN</td>\n",
       "      <td>Benjamin L. Cardin</td>\n",
       "      <td>1943-10-05</td>\n",
       "      <td>M</td>\n",
       "      <td>sen</td>\n",
       "      <td>MD</td>\n",
       "      <td>NaN</td>\n",
       "      <td>1.0</td>\n",
       "      <td>Democrat</td>\n",
       "      <td>https://www.cardin.senate.gov</td>\n",
       "      <td>509 Hart Senate Office Building Washington DC ...</td>\n",
       "      <td>202-224-4524</td>\n",
       "      <td>https://www.cardin.senate.gov/contact/</td>\n",
       "      <td>http://www.cardin.senate.gov/rss/feeds/?type=all</td>\n",
       "      <td>SenatorCardin</td>\n",
       "      <td>109071031.0</td>\n",
       "      <td>senatorbencardin</td>\n",
       "      <td>senatorcardin</td>\n",
       "      <td>UCiQaJnMzlfzzG3VESgyZChA</td>\n",
       "      <td>NaN</td>\n",
       "      <td>C000141</td>\n",
       "      <td>174.0</td>\n",
       "      <td>N00001955</td>\n",
       "      <td>S308</td>\n",
       "      <td>H6MD03177,S6MD03177</td>\n",
       "      <td>4004.0</td>\n",
       "      <td>400064</td>\n",
       "      <td>26888.0</td>\n",
       "      <td>Ben Cardin</td>\n",
       "      <td>NaN</td>\n",
       "      <td>15408.0</td>\n",
       "      <td>Ben Cardin</td>\n",
       "    </tr>\n",
       "    <tr>\n",
       "      <th>3</th>\n",
       "      <td>Carper</td>\n",
       "      <td>Thomas</td>\n",
       "      <td>Richard</td>\n",
       "      <td>NaN</td>\n",
       "      <td>NaN</td>\n",
       "      <td>Thomas R. Carper</td>\n",
       "      <td>1947-01-23</td>\n",
       "      <td>M</td>\n",
       "      <td>sen</td>\n",
       "      <td>DE</td>\n",
       "      <td>NaN</td>\n",
       "      <td>1.0</td>\n",
       "      <td>Democrat</td>\n",
       "      <td>https://www.carper.senate.gov</td>\n",
       "      <td>513 Hart Senate Office Building Washington DC ...</td>\n",
       "      <td>202-224-2441</td>\n",
       "      <td>https://www.carper.senate.gov/contact/</td>\n",
       "      <td>http://www.carper.senate.gov/public/index.cfm/...</td>\n",
       "      <td>SenatorCarper</td>\n",
       "      <td>249787913.0</td>\n",
       "      <td>tomcarper</td>\n",
       "      <td>senatorcarper</td>\n",
       "      <td>UCgLnvbKwu4B3navofj6Qvvw</td>\n",
       "      <td>NaN</td>\n",
       "      <td>C000174</td>\n",
       "      <td>179.0</td>\n",
       "      <td>N00012508</td>\n",
       "      <td>S277</td>\n",
       "      <td>S8DE00079</td>\n",
       "      <td>663.0</td>\n",
       "      <td>300019</td>\n",
       "      <td>22421.0</td>\n",
       "      <td>Tom Carper</td>\n",
       "      <td>NaN</td>\n",
       "      <td>15015.0</td>\n",
       "      <td>Tom Carper</td>\n",
       "    </tr>\n",
       "    <tr>\n",
       "      <th>4</th>\n",
       "      <td>Casey</td>\n",
       "      <td>Robert</td>\n",
       "      <td>P.</td>\n",
       "      <td>Jr.</td>\n",
       "      <td>Bob</td>\n",
       "      <td>Robert P. Casey, Jr.</td>\n",
       "      <td>1960-04-13</td>\n",
       "      <td>M</td>\n",
       "      <td>sen</td>\n",
       "      <td>PA</td>\n",
       "      <td>NaN</td>\n",
       "      <td>1.0</td>\n",
       "      <td>Democrat</td>\n",
       "      <td>https://www.casey.senate.gov</td>\n",
       "      <td>393 Russell Senate Office Building Washington ...</td>\n",
       "      <td>202-224-6324</td>\n",
       "      <td>https://www.casey.senate.gov/contact</td>\n",
       "      <td>http://www.casey.senate.gov/rss/feeds/?all</td>\n",
       "      <td>SenBobCasey</td>\n",
       "      <td>171598736.0</td>\n",
       "      <td>SenatorBobCasey</td>\n",
       "      <td>SenatorBobCasey</td>\n",
       "      <td>UCtVssXhx-KuZa-hSvnsnJ0A</td>\n",
       "      <td>NaN</td>\n",
       "      <td>C001070</td>\n",
       "      <td>1828.0</td>\n",
       "      <td>N00027503</td>\n",
       "      <td>S309</td>\n",
       "      <td>S6PA00217</td>\n",
       "      <td>47036.0</td>\n",
       "      <td>412246</td>\n",
       "      <td>2541.0</td>\n",
       "      <td>Bob Casey, Jr.</td>\n",
       "      <td>NaN</td>\n",
       "      <td>40703.0</td>\n",
       "      <td>Bob Casey Jr.</td>\n",
       "    </tr>\n",
       "  </tbody>\n",
       "</table>\n",
       "</div>"
      ],
      "text/plain": [
       "  last_name first_name middle_name suffix nickname             full_name  \\\n",
       "0     Brown    Sherrod         NaN    NaN      NaN         Sherrod Brown   \n",
       "1  Cantwell      Maria         NaN    NaN      NaN        Maria Cantwell   \n",
       "2    Cardin   Benjamin          L.    NaN      NaN    Benjamin L. Cardin   \n",
       "3    Carper     Thomas     Richard    NaN      NaN      Thomas R. Carper   \n",
       "4     Casey     Robert          P.    Jr.      Bob  Robert P. Casey, Jr.   \n",
       "\n",
       "     birthday gender type state  district  senate_class     party  \\\n",
       "0  1952-11-09      M  sen    OH       NaN           1.0  Democrat   \n",
       "1  1958-10-13      F  sen    WA       NaN           1.0  Democrat   \n",
       "2  1943-10-05      M  sen    MD       NaN           1.0  Democrat   \n",
       "3  1947-01-23      M  sen    DE       NaN           1.0  Democrat   \n",
       "4  1960-04-13      M  sen    PA       NaN           1.0  Democrat   \n",
       "\n",
       "                               url  \\\n",
       "0     https://www.brown.senate.gov   \n",
       "1  https://www.cantwell.senate.gov   \n",
       "2    https://www.cardin.senate.gov   \n",
       "3    https://www.carper.senate.gov   \n",
       "4     https://www.casey.senate.gov   \n",
       "\n",
       "                                             address         phone  \\\n",
       "0  503 Hart Senate Office Building Washington DC ...  202-224-2315   \n",
       "1  511 Hart Senate Office Building Washington DC ...  202-224-3441   \n",
       "2  509 Hart Senate Office Building Washington DC ...  202-224-4524   \n",
       "3  513 Hart Senate Office Building Washington DC ...  202-224-2441   \n",
       "4  393 Russell Senate Office Building Washington ...  202-224-6324   \n",
       "\n",
       "                                        contact_form  \\\n",
       "0              https://www.brown.senate.gov/contact/   \n",
       "1  https://www.cantwell.senate.gov/public/index.c...   \n",
       "2             https://www.cardin.senate.gov/contact/   \n",
       "3             https://www.carper.senate.gov/contact/   \n",
       "4               https://www.casey.senate.gov/contact   \n",
       "\n",
       "                                             rss_url          twitter  \\\n",
       "0  http://www.brown.senate.gov/rss/feeds/?type=al...  SenSherrodBrown   \n",
       "1  http://www.cantwell.senate.gov/public/index.cf...  SenatorCantwell   \n",
       "2   http://www.cardin.senate.gov/rss/feeds/?type=all    SenatorCardin   \n",
       "3  http://www.carper.senate.gov/public/index.cfm/...    SenatorCarper   \n",
       "4         http://www.casey.senate.gov/rss/feeds/?all      SenBobCasey   \n",
       "\n",
       "    twitter_id             facebook           youtube  \\\n",
       "0   43910797.0  SenatorSherrodBrown  SherrodBrownOhio   \n",
       "1  117501995.0      senatorcantwell   SenatorCantwell   \n",
       "2  109071031.0     senatorbencardin     senatorcardin   \n",
       "3  249787913.0            tomcarper     senatorcarper   \n",
       "4  171598736.0      SenatorBobCasey   SenatorBobCasey   \n",
       "\n",
       "                 youtube_id mastodon bioguide_id  thomas_id opensecrets_id  \\\n",
       "0  UCgy8jfERh-t_ixkKKoCmglQ      NaN     B000944      136.0      N00003535   \n",
       "1  UCN52UDqKgvHRk39ncySrIMw      NaN     C000127      172.0      N00007836   \n",
       "2  UCiQaJnMzlfzzG3VESgyZChA      NaN     C000141      174.0      N00001955   \n",
       "3  UCgLnvbKwu4B3navofj6Qvvw      NaN     C000174      179.0      N00012508   \n",
       "4  UCtVssXhx-KuZa-hSvnsnJ0A      NaN     C001070     1828.0      N00027503   \n",
       "\n",
       "  lis_id              fec_ids  cspan_id  govtrack_id  votesmart_id  \\\n",
       "0   S307  H2OH13033,S6OH00163    5051.0       400050       27018.0   \n",
       "1   S275  S8WA00194,H2WA01054   26137.0       300018       27122.0   \n",
       "2   S308  H6MD03177,S6MD03177    4004.0       400064       26888.0   \n",
       "3   S277            S8DE00079     663.0       300019       22421.0   \n",
       "4   S309            S6PA00217   47036.0       412246        2541.0   \n",
       "\n",
       "   ballotpedia_id  washington_post_id  icpsr_id    wikipedia_id  \n",
       "0   Sherrod Brown                 NaN   29389.0   Sherrod Brown  \n",
       "1  Maria Cantwell                 NaN   39310.0  Maria Cantwell  \n",
       "2      Ben Cardin                 NaN   15408.0      Ben Cardin  \n",
       "3      Tom Carper                 NaN   15015.0      Tom Carper  \n",
       "4  Bob Casey, Jr.                 NaN   40703.0   Bob Casey Jr.  "
      ]
     },
     "execution_count": 15,
     "metadata": {},
     "output_type": "execute_result"
    }
   ],
   "source": [
    "current = pd.read_csv(\n",
    "    \"https://theunitedstates.io/congress-legislators/legislators-current.csv\"\n",
    ")\n",
    "historic = pd.read_csv(\n",
    "    \"https://theunitedstates.io/congress-legislators/legislators-historical.csv\"\n",
    ")\n",
    "politicians = pd.concat([current, historic])\n",
    "politicians.reset_index(\n",
    "    drop=True, inplace=True\n",
    ")  # Reset duplicate indexes after merging\n",
    "politicians.head()"
   ]
  },
  {
   "cell_type": "markdown",
   "id": "180eb96a-8b88-4a6a-bf04-adddda87a5e5",
   "metadata": {},
   "source": [
    "## Match external columns to Wikidata PIDs\n",
    "At this point, you hould have a dataframe of your external source"
   ]
  },
  {
   "cell_type": "code",
   "execution_count": null,
   "id": "03ad7d36-0611-464e-b5be-bcd41f122c7a",
   "metadata": {},
   "outputs": [],
   "source": [
    "# TODO: it would be very cool if there was a gui using something like ipywidgets or a proper web server\n",
    "def createNamePidMapping(df):\n",
    "    try:\n",
    "        with open(\"colNamePid.json\", \"r\") as file:\n",
    "            colNamePid = json.load(file)\n",
    "    except FileNotFoundError:\n",
    "        colNamePid = {}\n",
    "\n",
    "    colNamePid[\"__instructions\"] = (\n",
    "        \"# Mapping columns to PIDs and downloading Wikidata data. To skip column, leave 'p' property blank. PIDs should start with capital 'P'. 'pname' is automatically generated\"\n",
    "    )\n",
    "    for col in df.columns:\n",
    "        if col in colNamePid:\n",
    "            print(col, \"already in mapping, skipping\")\n",
    "            continue\n",
    "        first_non_null_index = df[col].first_valid_index()\n",
    "        if first_non_null_index == None:\n",
    "            first_non_null_value = None\n",
    "        else:\n",
    "            first_non_null_value = df[col][first_non_null_index]\n",
    "\n",
    "        colNamePid[col] = {\n",
    "            \"example\": str(first_non_null_value),\n",
    "            \"p\": \"\",\n",
    "            # \"pname\": None,\n",
    "        }\n",
    "\n",
    "    with open(\"colNamePid.json\", \"w\") as file:\n",
    "        json.dump(colNamePid, file, indent=2)\n",
    "\n",
    "\n",
    "createNamePidMapping(politicians)"
   ]
  },
  {
   "cell_type": "code",
   "execution_count": 16,
   "id": "81deb669-5049-4516-8036-bff5525aabaa",
   "metadata": {},
   "outputs": [],
   "source": [
    "with open(\"colNamePid.json\", \"r\") as file:\n",
    "    colNamePid = json.load(file)"
   ]
  },
  {
   "cell_type": "code",
   "execution_count": 15,
   "id": "e555e3cb-25b0-4498-a4b5-f1cc9c1e7644",
   "metadata": {},
   "outputs": [
    {
     "name": "stderr",
     "output_type": "stream",
     "text": [
      " 37%|███▋      | 14/38 [00:01<00:02,  9.35it/s]"
     ]
    },
    {
     "name": "stdout",
     "output_type": "stream",
     "text": [
      "An error occurred: 'entities'\n",
      "P39.P768 is an invalid pid\n"
     ]
    },
    {
     "name": "stderr",
     "output_type": "stream",
     "text": [
      " 58%|█████▊    | 22/38 [00:03<00:02,  5.43it/s]"
     ]
    },
    {
     "name": "stdout",
     "output_type": "stream",
     "text": [
      "An error occurred: 'entities'\n",
      "P2002.P6552 is an invalid pid\n"
     ]
    },
    {
     "name": "stderr",
     "output_type": "stream",
     "text": [
      " 63%|██████▎   | 24/38 [00:03<00:02,  5.56it/s]"
     ]
    },
    {
     "name": "stdout",
     "output_type": "stream",
     "text": [
      "An error occurred: 'entities'\n",
      "P2397.P11245 is an invalid pid\n"
     ]
    },
    {
     "name": "stderr",
     "output_type": "stream",
     "text": [
      "100%|██████████| 38/38 [00:04<00:00,  8.08it/s]\n"
     ]
    }
   ],
   "source": [
    "def get_property_name(pid):\n",
    "    # URL for Wikidata API to get information about the property\n",
    "    url = (\n",
    "        f\"https://www.wikidata.org/w/api.php?action=wbgetentities&ids={pid}&format=json\"\n",
    "    )\n",
    "\n",
    "    try:\n",
    "        # Sending a GET request to the Wikidata API\n",
    "        response = requests.get(url)\n",
    "        data = response.json()\n",
    "\n",
    "        # Extracting the English label of the property\n",
    "        label = data[\"entities\"][pid][\"labels\"][\"en\"][\"value\"]\n",
    "\n",
    "        return label\n",
    "    except Exception as e:\n",
    "        print(f\"An error occurred: {e}\")\n",
    "        return None\n",
    "\n",
    "\n",
    "for key, item in tqdm(colNamePid.items()):\n",
    "    # Ignore comments\n",
    "    if key.startswith(\"__\") or len(item[\"p\"]) == 0:\n",
    "        continue\n",
    "    pname = get_property_name(item[\"p\"])\n",
    "    if pname is None:\n",
    "        print(item[\"p\"] + \" is an invalid pid\")\n",
    "        continue\n",
    "        # TODO: handle this\n",
    "    item[\"pname\"] = pname\n",
    "\n",
    "with open(\"colNamePid.json\", \"w\") as file:\n",
    "    json.dump(colNamePid, file, indent=2)"
   ]
  },
  {
   "cell_type": "markdown",
   "id": "0662cd86-d2ce-43a2-83a9-1116cb51ec68",
   "metadata": {},
   "source": [
    "## Duplicate Check\n",
    "Ensure I wrote SPARQL query correctly. Don't want to exclude duplicates, but also don't want to make new row for every combination. Search for them, there should be a few."
   ]
  },
  {
   "cell_type": "code",
   "execution_count": 7,
   "id": "d9be271b-5f92-4597-a324-2eb8607c3684",
   "metadata": {},
   "outputs": [],
   "source": [
    "df = pd.read_csv(\"joinProp.tsv\", delimiter=\"\\t\")"
   ]
  },
  {
   "cell_type": "code",
   "execution_count": 8,
   "id": "1d2789d3-0fea-4e0f-b7ce-c10102798bdb",
   "metadata": {},
   "outputs": [
    {
     "data": {
      "text/html": [
       "<div>\n",
       "<style scoped>\n",
       "    .dataframe tbody tr th:only-of-type {\n",
       "        vertical-align: middle;\n",
       "    }\n",
       "\n",
       "    .dataframe tbody tr th {\n",
       "        vertical-align: top;\n",
       "    }\n",
       "\n",
       "    .dataframe thead th {\n",
       "        text-align: right;\n",
       "    }\n",
       "</style>\n",
       "<table border=\"1\" class=\"dataframe\">\n",
       "  <thead>\n",
       "    <tr style=\"text-align: right;\">\n",
       "      <th></th>\n",
       "      <th>?qid</th>\n",
       "      <th>?target_col</th>\n",
       "      <th>?target_col_guid</th>\n",
       "    </tr>\n",
       "  </thead>\n",
       "  <tbody>\n",
       "    <tr>\n",
       "      <th>6558</th>\n",
       "      <td>Q4798696</td>\n",
       "      <td>3246</td>\n",
       "      <td>Q4798696-65FC2E31-C6AD-4E3C-ADC2-F46C6CECCA8A</td>\n",
       "    </tr>\n",
       "    <tr>\n",
       "      <th>11438</th>\n",
       "      <td>Q7349097</td>\n",
       "      <td>3246</td>\n",
       "      <td>Q7349097-A0824D63-76F4-43AA-8670-74834E214E5F</td>\n",
       "    </tr>\n",
       "    <tr>\n",
       "      <th>13009</th>\n",
       "      <td>Q967900</td>\n",
       "      <td>7281</td>\n",
       "      <td>Q967900-51C88E12-5650-4EE3-87F4-E9300061D0E2</td>\n",
       "    </tr>\n",
       "    <tr>\n",
       "      <th>12181</th>\n",
       "      <td>Q7817480</td>\n",
       "      <td>7281</td>\n",
       "      <td>Q7817480-5C6F5297-516F-4A0E-9C81-7AD62F433512</td>\n",
       "    </tr>\n",
       "    <tr>\n",
       "      <th>3413</th>\n",
       "      <td>Q2204556</td>\n",
       "      <td>20485</td>\n",
       "      <td>Q2204556-6EC5424D-F093-4D01-AA15-41D597A4941E</td>\n",
       "    </tr>\n",
       "    <tr>\n",
       "      <th>8234</th>\n",
       "      <td>Q5498791</td>\n",
       "      <td>20485</td>\n",
       "      <td>Q5498791-2D842C85-F43A-47F4-8B69-C750F1A5B766</td>\n",
       "    </tr>\n",
       "    <tr>\n",
       "      <th>11124</th>\n",
       "      <td>Q72762723</td>\n",
       "      <td>38958</td>\n",
       "      <td>Q72762723-B86016D0-31CD-4806-B003-56FDD697FF0E</td>\n",
       "    </tr>\n",
       "    <tr>\n",
       "      <th>10134</th>\n",
       "      <td>Q6660224</td>\n",
       "      <td>38958</td>\n",
       "      <td>Q6660224-D21D806B-2649-4C6A-BFC9-8B91ED971AD3</td>\n",
       "    </tr>\n",
       "    <tr>\n",
       "      <th>12088</th>\n",
       "      <td>Q7789874</td>\n",
       "      <td>53797</td>\n",
       "      <td>Q7789874-85AA94F6-8148-498A-9F37-4EA0CBAEDD76</td>\n",
       "    </tr>\n",
       "    <tr>\n",
       "      <th>8908</th>\n",
       "      <td>Q6069522</td>\n",
       "      <td>53797</td>\n",
       "      <td>Q6069522-4E5D58AA-D39A-4A9B-8C18-1C518D0CF343</td>\n",
       "    </tr>\n",
       "    <tr>\n",
       "      <th>5035</th>\n",
       "      <td>Q333670</td>\n",
       "      <td>58253</td>\n",
       "      <td>Q333670-BB28CACD-DC46-4EE4-8BF3-8E2E27D76963</td>\n",
       "    </tr>\n",
       "    <tr>\n",
       "      <th>10647</th>\n",
       "      <td>Q694881</td>\n",
       "      <td>58253</td>\n",
       "      <td>Q694881-AA77FB18-3CC8-48CF-A623-EEC0D02F6CF5</td>\n",
       "    </tr>\n",
       "    <tr>\n",
       "      <th>8470</th>\n",
       "      <td>Q5585226</td>\n",
       "      <td>58916</td>\n",
       "      <td>Q5585226-D5963DE9-0904-48E1-91D5-06A5BAFEE027</td>\n",
       "    </tr>\n",
       "    <tr>\n",
       "      <th>8468</th>\n",
       "      <td>Q5585151</td>\n",
       "      <td>58916</td>\n",
       "      <td>Q5585151-BB1E8EC1-D1CD-4EB1-BE1C-C3597925D570</td>\n",
       "    </tr>\n",
       "    <tr>\n",
       "      <th>2299</th>\n",
       "      <td>Q16887115</td>\n",
       "      <td>80314</td>\n",
       "      <td>Q16887115-0CFC3260-4FCB-4360-81E3-F79F917B4139</td>\n",
       "    </tr>\n",
       "    <tr>\n",
       "      <th>12300</th>\n",
       "      <td>Q7982836</td>\n",
       "      <td>80314</td>\n",
       "      <td>Q7982836-BD689358-F0EF-4E69-A77C-4A3187C5FF09</td>\n",
       "    </tr>\n",
       "    <tr>\n",
       "      <th>7041</th>\n",
       "      <td>Q5056434</td>\n",
       "      <td>102830</td>\n",
       "      <td>Q5056434-86F0DB81-ABDA-410C-B6BD-CF65335B9684</td>\n",
       "    </tr>\n",
       "    <tr>\n",
       "      <th>51</th>\n",
       "      <td>Q102276493</td>\n",
       "      <td>102830</td>\n",
       "      <td>Q102276493-C4EB239F-FDC4-4EE6-8876-472F8F4C90CF</td>\n",
       "    </tr>\n",
       "  </tbody>\n",
       "</table>\n",
       "</div>"
      ],
      "text/plain": [
       "             ?qid  ?target_col  \\\n",
       "6558     Q4798696         3246   \n",
       "11438    Q7349097         3246   \n",
       "13009     Q967900         7281   \n",
       "12181    Q7817480         7281   \n",
       "3413     Q2204556        20485   \n",
       "8234     Q5498791        20485   \n",
       "11124   Q72762723        38958   \n",
       "10134    Q6660224        38958   \n",
       "12088    Q7789874        53797   \n",
       "8908     Q6069522        53797   \n",
       "5035      Q333670        58253   \n",
       "10647     Q694881        58253   \n",
       "8470     Q5585226        58916   \n",
       "8468     Q5585151        58916   \n",
       "2299    Q16887115        80314   \n",
       "12300    Q7982836        80314   \n",
       "7041     Q5056434       102830   \n",
       "51     Q102276493       102830   \n",
       "\n",
       "                                      ?target_col_guid  \n",
       "6558     Q4798696-65FC2E31-C6AD-4E3C-ADC2-F46C6CECCA8A  \n",
       "11438    Q7349097-A0824D63-76F4-43AA-8670-74834E214E5F  \n",
       "13009     Q967900-51C88E12-5650-4EE3-87F4-E9300061D0E2  \n",
       "12181    Q7817480-5C6F5297-516F-4A0E-9C81-7AD62F433512  \n",
       "3413     Q2204556-6EC5424D-F093-4D01-AA15-41D597A4941E  \n",
       "8234     Q5498791-2D842C85-F43A-47F4-8B69-C750F1A5B766  \n",
       "11124   Q72762723-B86016D0-31CD-4806-B003-56FDD697FF0E  \n",
       "10134    Q6660224-D21D806B-2649-4C6A-BFC9-8B91ED971AD3  \n",
       "12088    Q7789874-85AA94F6-8148-498A-9F37-4EA0CBAEDD76  \n",
       "8908     Q6069522-4E5D58AA-D39A-4A9B-8C18-1C518D0CF343  \n",
       "5035      Q333670-BB28CACD-DC46-4EE4-8BF3-8E2E27D76963  \n",
       "10647     Q694881-AA77FB18-3CC8-48CF-A623-EEC0D02F6CF5  \n",
       "8470     Q5585226-D5963DE9-0904-48E1-91D5-06A5BAFEE027  \n",
       "8468     Q5585151-BB1E8EC1-D1CD-4EB1-BE1C-C3597925D570  \n",
       "2299    Q16887115-0CFC3260-4FCB-4360-81E3-F79F917B4139  \n",
       "12300    Q7982836-BD689358-F0EF-4E69-A77C-4A3187C5FF09  \n",
       "7041     Q5056434-86F0DB81-ABDA-410C-B6BD-CF65335B9684  \n",
       "51     Q102276493-C4EB239F-FDC4-4EE6-8876-472F8F4C90CF  "
      ]
     },
     "execution_count": 8,
     "metadata": {},
     "output_type": "execute_result"
    }
   ],
   "source": [
    "df[df[\"?target_col\"].duplicated(keep=False)].sort_values(\"?target_col\")"
   ]
  },
  {
   "cell_type": "code",
   "execution_count": 9,
   "id": "b2a480e0-f067-46ed-afd3-15d6b3093d37",
   "metadata": {},
   "outputs": [
    {
     "data": {
      "text/html": [
       "<div>\n",
       "<style scoped>\n",
       "    .dataframe tbody tr th:only-of-type {\n",
       "        vertical-align: middle;\n",
       "    }\n",
       "\n",
       "    .dataframe tbody tr th {\n",
       "        vertical-align: top;\n",
       "    }\n",
       "\n",
       "    .dataframe thead th {\n",
       "        text-align: right;\n",
       "    }\n",
       "</style>\n",
       "<table border=\"1\" class=\"dataframe\">\n",
       "  <thead>\n",
       "    <tr style=\"text-align: right;\">\n",
       "      <th></th>\n",
       "      <th>?qid</th>\n",
       "      <th>?target_col</th>\n",
       "      <th>?target_col_guid</th>\n",
       "    </tr>\n",
       "  </thead>\n",
       "  <tbody>\n",
       "    <tr>\n",
       "      <th>2082</th>\n",
       "      <td>Q163957</td>\n",
       "      <td>2139</td>\n",
       "      <td>Q163957-F6535CB8-F699-4562-9333-B6D42B044195</td>\n",
       "    </tr>\n",
       "    <tr>\n",
       "      <th>2083</th>\n",
       "      <td>Q163957</td>\n",
       "      <td>9263109</td>\n",
       "      <td>Q163957-745E7491-2755-491D-BAAA-A0BD7EF0FB9F</td>\n",
       "    </tr>\n",
       "    <tr>\n",
       "      <th>4762</th>\n",
       "      <td>Q313776</td>\n",
       "      <td>53850</td>\n",
       "      <td>Q313776-98D7858F-0A1A-4C4A-9F6C-FDAED3EBE79E</td>\n",
       "    </tr>\n",
       "    <tr>\n",
       "      <th>4763</th>\n",
       "      <td>Q313776</td>\n",
       "      <td>56987</td>\n",
       "      <td>Q313776-1A688262-4D2B-4F92-813F-23DB834E0F9E</td>\n",
       "    </tr>\n",
       "    <tr>\n",
       "      <th>6588</th>\n",
       "      <td>Q482827</td>\n",
       "      <td>1984</td>\n",
       "      <td>Q482827-50F24354-84F8-4820-934A-954596D807C6</td>\n",
       "    </tr>\n",
       "    <tr>\n",
       "      <th>6589</th>\n",
       "      <td>Q482827</td>\n",
       "      <td>27782</td>\n",
       "      <td>Q482827-38EE0CF7-171C-4EB2-AE15-0B39134311DB</td>\n",
       "    </tr>\n",
       "    <tr>\n",
       "      <th>11725</th>\n",
       "      <td>Q7482898</td>\n",
       "      <td>1000452</td>\n",
       "      <td>Q7482898-338C876E-6EF7-41E0-A33E-21E086591324</td>\n",
       "    </tr>\n",
       "    <tr>\n",
       "      <th>11726</th>\n",
       "      <td>Q7482898</td>\n",
       "      <td>54082</td>\n",
       "      <td>Q7482898-EDDFC84B-5A25-4FDB-B7B3-150B09A69610</td>\n",
       "    </tr>\n",
       "  </tbody>\n",
       "</table>\n",
       "</div>"
      ],
      "text/plain": [
       "           ?qid  ?target_col                               ?target_col_guid\n",
       "2082    Q163957         2139   Q163957-F6535CB8-F699-4562-9333-B6D42B044195\n",
       "2083    Q163957      9263109   Q163957-745E7491-2755-491D-BAAA-A0BD7EF0FB9F\n",
       "4762    Q313776        53850   Q313776-98D7858F-0A1A-4C4A-9F6C-FDAED3EBE79E\n",
       "4763    Q313776        56987   Q313776-1A688262-4D2B-4F92-813F-23DB834E0F9E\n",
       "6588    Q482827         1984   Q482827-50F24354-84F8-4820-934A-954596D807C6\n",
       "6589    Q482827        27782   Q482827-38EE0CF7-171C-4EB2-AE15-0B39134311DB\n",
       "11725  Q7482898      1000452  Q7482898-338C876E-6EF7-41E0-A33E-21E086591324\n",
       "11726  Q7482898        54082  Q7482898-EDDFC84B-5A25-4FDB-B7B3-150B09A69610"
      ]
     },
     "execution_count": 9,
     "metadata": {},
     "output_type": "execute_result"
    }
   ],
   "source": [
    "df[df[\"?qid\"].duplicated(keep=False)].sort_values(\"?qid\")"
   ]
  },
  {
   "cell_type": "code",
   "execution_count": 10,
   "id": "6db6e5ee-b708-4ccb-a0be-db10c2543f64",
   "metadata": {},
   "outputs": [
    {
     "data": {
      "text/html": [
       "<div>\n",
       "<style scoped>\n",
       "    .dataframe tbody tr th:only-of-type {\n",
       "        vertical-align: middle;\n",
       "    }\n",
       "\n",
       "    .dataframe tbody tr th {\n",
       "        vertical-align: top;\n",
       "    }\n",
       "\n",
       "    .dataframe thead th {\n",
       "        text-align: right;\n",
       "    }\n",
       "</style>\n",
       "<table border=\"1\" class=\"dataframe\">\n",
       "  <thead>\n",
       "    <tr style=\"text-align: right;\">\n",
       "      <th></th>\n",
       "      <th>?qid</th>\n",
       "      <th>?target_col</th>\n",
       "      <th>?target_col_guid</th>\n",
       "    </tr>\n",
       "  </thead>\n",
       "  <tbody>\n",
       "    <tr>\n",
       "      <th>6588</th>\n",
       "      <td>Q482827</td>\n",
       "      <td>1984</td>\n",
       "      <td>Q482827-50F24354-84F8-4820-934A-954596D807C6</td>\n",
       "    </tr>\n",
       "    <tr>\n",
       "      <th>6589</th>\n",
       "      <td>Q482827</td>\n",
       "      <td>27782</td>\n",
       "      <td>Q482827-38EE0CF7-171C-4EB2-AE15-0B39134311DB</td>\n",
       "    </tr>\n",
       "  </tbody>\n",
       "</table>\n",
       "</div>"
      ],
      "text/plain": [
       "         ?qid  ?target_col                              ?target_col_guid\n",
       "6588  Q482827         1984  Q482827-50F24354-84F8-4820-934A-954596D807C6\n",
       "6589  Q482827        27782  Q482827-38EE0CF7-171C-4EB2-AE15-0B39134311DB"
      ]
     },
     "execution_count": 10,
     "metadata": {},
     "output_type": "execute_result"
    }
   ],
   "source": [
    "# Expect to see 2 values\n",
    "df[df[\"?qid\"] == \"Q482827\"]"
   ]
  },
  {
   "cell_type": "code",
   "execution_count": 12,
   "id": "d2707128-b732-4cf8-a4fd-98f1f3c4cbbe",
   "metadata": {},
   "outputs": [
    {
     "data": {
      "text/html": [
       "<div>\n",
       "<style scoped>\n",
       "    .dataframe tbody tr th:only-of-type {\n",
       "        vertical-align: middle;\n",
       "    }\n",
       "\n",
       "    .dataframe tbody tr th {\n",
       "        vertical-align: top;\n",
       "    }\n",
       "\n",
       "    .dataframe thead th {\n",
       "        text-align: right;\n",
       "    }\n",
       "</style>\n",
       "<table border=\"1\" class=\"dataframe\">\n",
       "  <thead>\n",
       "    <tr style=\"text-align: right;\">\n",
       "      <th></th>\n",
       "      <th>?qid</th>\n",
       "      <th>?target_col</th>\n",
       "      <th>?target_col_guid</th>\n",
       "    </tr>\n",
       "  </thead>\n",
       "  <tbody>\n",
       "  </tbody>\n",
       "</table>\n",
       "</div>"
      ],
      "text/plain": [
       "Empty DataFrame\n",
       "Columns: [?qid, ?target_col, ?target_col_guid]\n",
       "Index: []"
      ]
     },
     "execution_count": 12,
     "metadata": {},
     "output_type": "execute_result"
    }
   ],
   "source": [
    "# There should be no duplicates\n",
    "df[df[\"?target_col_guid\"].duplicated(keep=False)].sort_values(\"?target_col_guid\")"
   ]
  },
  {
   "cell_type": "code",
   "execution_count": 11,
   "id": "d4f35134-ba0b-427c-a37c-4f451616bf93",
   "metadata": {},
   "outputs": [
    {
     "data": {
      "text/html": [
       "<div>\n",
       "<style scoped>\n",
       "    .dataframe tbody tr th:only-of-type {\n",
       "        vertical-align: middle;\n",
       "    }\n",
       "\n",
       "    .dataframe tbody tr th {\n",
       "        vertical-align: top;\n",
       "    }\n",
       "\n",
       "    .dataframe thead th {\n",
       "        text-align: right;\n",
       "    }\n",
       "</style>\n",
       "<table border=\"1\" class=\"dataframe\">\n",
       "  <thead>\n",
       "    <tr style=\"text-align: right;\">\n",
       "      <th></th>\n",
       "      <th>?qid</th>\n",
       "      <th>?name</th>\n",
       "    </tr>\n",
       "  </thead>\n",
       "  <tbody>\n",
       "  </tbody>\n",
       "</table>\n",
       "</div>"
      ],
      "text/plain": [
       "Empty DataFrame\n",
       "Columns: [?qid, ?name]\n",
       "Index: []"
      ]
     },
     "execution_count": 11,
     "metadata": {},
     "output_type": "execute_result"
    }
   ],
   "source": [
    "# There should be no duplicates here\n",
    "labels = pd.read_csv(\"labels.tsv\", delimiter=\"\\t\")\n",
    "labels[labels[\"?qid\"].duplicated(keep=False)].sort_values(\"?qid\")"
   ]
  },
  {
   "cell_type": "markdown",
   "id": "0ec8e914-b83a-449f-bc4f-ecbb7fd68ad1",
   "metadata": {},
   "source": [
    "## Download wikidata values for all columns"
   ]
  },
  {
   "cell_type": "code",
   "execution_count": 23,
   "id": "a5e5b3a6-c307-47ba-80dc-0fda0a1c99dc",
   "metadata": {},
   "outputs": [
    {
     "name": "stderr",
     "output_type": "stream",
     "text": [
      "  0%|          | 0/36 [00:00<?, ?it/s]"
     ]
    },
    {
     "name": "stdout",
     "output_type": "stream",
     "text": [
      "PREFIX rdfs: <http://www.w3.org/2000/01/rdf-schema#>\n",
      "PREFIX p: <http://www.wikidata.org/prop/>\n",
      "PREFIX ps: <http://www.wikidata.org/prop/statement/>\n",
      "SELECT DISTINCT (SUBSTR(STR(?_qid), 32) AS ?qid)  (str(COALESCE(?_target_col_label, ?_target_col)) AS ?target_col) (SUBSTR(STR(?_target_col_guid), 42) AS ?target_col_guid)\n",
      "WHERE {\n",
      "  \n",
      "  ?_join_col_guid ps:P10660 ?_join_col.\n",
      "  ?_qid p:P10660 ?_join_col_guid.\n",
      "  ?_target_col_guid ps:P734 ?_target_col.\n",
      "  ?_qid p:P734 ?_target_col_guid.\n",
      "  OPTIONAL {\n",
      "    ?_target_col rdfs:label ?_target_col_label. \n",
      "    FILTER (LANG(?_target_col_label) = \"en\") \n",
      "  }\n",
      "}\n"
     ]
    },
    {
     "name": "stderr",
     "output_type": "stream",
     "text": [
      "  3%|▎         | 1/36 [00:01<00:49,  1.41s/it]"
     ]
    },
    {
     "name": "stdout",
     "output_type": "stream",
     "text": [
      "File downloaded successfully!\n",
      "PREFIX rdfs: <http://www.w3.org/2000/01/rdf-schema#>\n",
      "PREFIX p: <http://www.wikidata.org/prop/>\n",
      "PREFIX ps: <http://www.wikidata.org/prop/statement/>\n",
      "SELECT DISTINCT (SUBSTR(STR(?_qid), 32) AS ?qid)  (str(COALESCE(?_target_col_label, ?_target_col)) AS ?target_col) (SUBSTR(STR(?_target_col_guid), 42) AS ?target_col_guid)\n",
      "WHERE {\n",
      "  \n",
      "  ?_join_col_guid ps:P10660 ?_join_col.\n",
      "  ?_qid p:P10660 ?_join_col_guid.\n",
      "  ?_target_col_guid ps:P735 ?_target_col.\n",
      "  ?_qid p:P735 ?_target_col_guid.\n",
      "  OPTIONAL {\n",
      "    ?_target_col rdfs:label ?_target_col_label. \n",
      "    FILTER (LANG(?_target_col_label) = \"en\") \n",
      "  }\n",
      "}\n"
     ]
    },
    {
     "name": "stderr",
     "output_type": "stream",
     "text": [
      "  6%|▌         | 2/36 [00:02<00:42,  1.24s/it]"
     ]
    },
    {
     "name": "stdout",
     "output_type": "stream",
     "text": [
      "File downloaded successfully!\n",
      "PREFIX rdfs: <http://www.w3.org/2000/01/rdf-schema#>\n",
      "PREFIX p: <http://www.wikidata.org/prop/>\n",
      "PREFIX ps: <http://www.wikidata.org/prop/statement/>\n",
      "SELECT DISTINCT (SUBSTR(STR(?_qid), 32) AS ?qid)  (str(COALESCE(?_target_col_label, ?_target_col)) AS ?target_col) (SUBSTR(STR(?_target_col_guid), 42) AS ?target_col_guid)\n",
      "WHERE {\n",
      "  \n",
      "  ?_join_col_guid ps:P10660 ?_join_col.\n",
      "  ?_qid p:P10660 ?_join_col_guid.\n",
      "  ?_target_col_guid ps:P8017 ?_target_col.\n",
      "  ?_qid p:P8017 ?_target_col_guid.\n",
      "  OPTIONAL {\n",
      "    ?_target_col rdfs:label ?_target_col_label. \n",
      "    FILTER (LANG(?_target_col_label) = \"en\") \n",
      "  }\n",
      "}\n"
     ]
    },
    {
     "name": "stderr",
     "output_type": "stream",
     "text": [
      " 11%|█         | 4/36 [00:03<00:20,  1.57it/s]"
     ]
    },
    {
     "name": "stdout",
     "output_type": "stream",
     "text": [
      "File downloaded successfully!\n",
      "PREFIX rdfs: <http://www.w3.org/2000/01/rdf-schema#>\n",
      "PREFIX p: <http://www.wikidata.org/prop/>\n",
      "PREFIX ps: <http://www.wikidata.org/prop/statement/>\n",
      "SELECT DISTINCT (SUBSTR(STR(?_qid), 32) AS ?qid)  (str(COALESCE(?_target_col_label, ?_target_col)) AS ?target_col) (SUBSTR(STR(?_target_col_guid), 42) AS ?target_col_guid)\n",
      "WHERE {\n",
      "  \n",
      "  ?_join_col_guid ps:P10660 ?_join_col.\n",
      "  ?_qid p:P10660 ?_join_col_guid.\n",
      "  ?_target_col_guid ps:P1449 ?_target_col.\n",
      "  ?_qid p:P1449 ?_target_col_guid.\n",
      "  OPTIONAL {\n",
      "    ?_target_col rdfs:label ?_target_col_label. \n",
      "    FILTER (LANG(?_target_col_label) = \"en\") \n",
      "  }\n",
      "}\n"
     ]
    },
    {
     "name": "stderr",
     "output_type": "stream",
     "text": [
      " 14%|█▍        | 5/36 [00:03<00:18,  1.68it/s]"
     ]
    },
    {
     "name": "stdout",
     "output_type": "stream",
     "text": [
      "File downloaded successfully!\n",
      "PREFIX rdfs: <http://www.w3.org/2000/01/rdf-schema#>\n",
      "PREFIX p: <http://www.wikidata.org/prop/>\n",
      "PREFIX ps: <http://www.wikidata.org/prop/statement/>\n",
      "SELECT DISTINCT (SUBSTR(STR(?_qid), 32) AS ?qid)  (str(COALESCE(?_target_col_label, ?_target_col)) AS ?target_col) (SUBSTR(STR(?_target_col_guid), 42) AS ?target_col_guid)\n",
      "WHERE {\n",
      "  \n",
      "  ?_join_col_guid ps:P10660 ?_join_col.\n",
      "  ?_qid p:P10660 ?_join_col_guid.\n",
      "  ?_target_col_guid ps:P569 ?_target_col.\n",
      "  ?_qid p:P569 ?_target_col_guid.\n",
      "  OPTIONAL {\n",
      "    ?_target_col rdfs:label ?_target_col_label. \n",
      "    FILTER (LANG(?_target_col_label) = \"en\") \n",
      "  }\n",
      "}\n"
     ]
    },
    {
     "name": "stderr",
     "output_type": "stream",
     "text": [
      " 19%|█▉        | 7/36 [00:04<00:16,  1.74it/s]"
     ]
    },
    {
     "name": "stdout",
     "output_type": "stream",
     "text": [
      "File downloaded successfully!\n",
      "PREFIX rdfs: <http://www.w3.org/2000/01/rdf-schema#>\n",
      "PREFIX p: <http://www.wikidata.org/prop/>\n",
      "PREFIX ps: <http://www.wikidata.org/prop/statement/>\n",
      "SELECT DISTINCT (SUBSTR(STR(?_qid), 32) AS ?qid)  (str(COALESCE(?_target_col_label, ?_target_col)) AS ?target_col) (SUBSTR(STR(?_target_col_guid), 42) AS ?target_col_guid)\n",
      "WHERE {\n",
      "  \n",
      "  ?_join_col_guid ps:P10660 ?_join_col.\n",
      "  ?_qid p:P10660 ?_join_col_guid.\n",
      "  ?_target_col_guid ps:P21 ?_target_col.\n",
      "  ?_qid p:P21 ?_target_col_guid.\n",
      "  OPTIONAL {\n",
      "    ?_target_col rdfs:label ?_target_col_label. \n",
      "    FILTER (LANG(?_target_col_label) = \"en\") \n",
      "  }\n",
      "}\n"
     ]
    },
    {
     "name": "stderr",
     "output_type": "stream",
     "text": [
      " 22%|██▏       | 8/36 [00:05<00:19,  1.46it/s]"
     ]
    },
    {
     "name": "stdout",
     "output_type": "stream",
     "text": [
      "File downloaded successfully!\n",
      "PREFIX rdfs: <http://www.w3.org/2000/01/rdf-schema#>\n",
      "PREFIX p: <http://www.wikidata.org/prop/>\n",
      "PREFIX ps: <http://www.wikidata.org/prop/statement/>\n",
      "SELECT DISTINCT (SUBSTR(STR(?_qid), 32) AS ?qid)  (str(COALESCE(?_target_col_label, ?_target_col)) AS ?target_col) (SUBSTR(STR(?_target_col_guid), 42) AS ?target_col_guid)\n",
      "WHERE {\n",
      "  \n",
      "  ?_join_col_guid ps:P10660 ?_join_col.\n",
      "  ?_qid p:P10660 ?_join_col_guid.\n",
      "  ?_target_col_guid ps:P39 ?_target_col.\n",
      "  ?_qid p:P39 ?_target_col_guid.\n",
      "  OPTIONAL {\n",
      "    ?_target_col rdfs:label ?_target_col_label. \n",
      "    FILTER (LANG(?_target_col_label) = \"en\") \n",
      "  }\n",
      "}\n"
     ]
    },
    {
     "name": "stderr",
     "output_type": "stream",
     "text": [
      " 25%|██▌       | 9/36 [00:06<00:22,  1.20it/s]"
     ]
    },
    {
     "name": "stdout",
     "output_type": "stream",
     "text": [
      "File downloaded successfully!\n",
      "PREFIX rdfs: <http://www.w3.org/2000/01/rdf-schema#>\n",
      "PREFIX p: <http://www.wikidata.org/prop/>\n",
      "PREFIX ps: <http://www.wikidata.org/prop/statement/>\n",
      "SELECT DISTINCT (SUBSTR(STR(?_qid), 32) AS ?qid)  (str(COALESCE(?_target_col_label, ?_target_col)) AS ?target_col) (SUBSTR(STR(?_target_col_guid), 42) AS ?target_col_guid)\n",
      "WHERE {\n",
      "  \n",
      "  ?_join_col_guid ps:P10660 ?_join_col.\n",
      "  ?_qid p:P10660 ?_join_col_guid.\n",
      "  ?_target_col_guid ps:P102 ?_target_col.\n",
      "  ?_qid p:P102 ?_target_col_guid.\n",
      "  OPTIONAL {\n",
      "    ?_target_col rdfs:label ?_target_col_label. \n",
      "    FILTER (LANG(?_target_col_label) = \"en\") \n",
      "  }\n",
      "}\n"
     ]
    },
    {
     "name": "stderr",
     "output_type": "stream",
     "text": [
      " 36%|███▌      | 13/36 [00:07<00:10,  2.17it/s]"
     ]
    },
    {
     "name": "stdout",
     "output_type": "stream",
     "text": [
      "File downloaded successfully!\n",
      "PREFIX rdfs: <http://www.w3.org/2000/01/rdf-schema#>\n",
      "PREFIX p: <http://www.wikidata.org/prop/>\n",
      "PREFIX ps: <http://www.wikidata.org/prop/statement/>\n",
      "SELECT DISTINCT (SUBSTR(STR(?_qid), 32) AS ?qid)  (str(COALESCE(?_target_col_label, ?_target_col)) AS ?target_col) (SUBSTR(STR(?_target_col_guid), 42) AS ?target_col_guid)\n",
      "WHERE {\n",
      "  \n",
      "  ?_join_col_guid ps:P10660 ?_join_col.\n",
      "  ?_qid p:P10660 ?_join_col_guid.\n",
      "  ?_target_col_guid ps:P856 ?_target_col.\n",
      "  ?_qid p:P856 ?_target_col_guid.\n",
      "  OPTIONAL {\n",
      "    ?_target_col rdfs:label ?_target_col_label. \n",
      "    FILTER (LANG(?_target_col_label) = \"en\") \n",
      "  }\n",
      "}\n"
     ]
    },
    {
     "name": "stderr",
     "output_type": "stream",
     "text": [
      " 39%|███▉      | 14/36 [00:08<00:11,  1.93it/s]"
     ]
    },
    {
     "name": "stdout",
     "output_type": "stream",
     "text": [
      "File downloaded successfully!\n",
      "PREFIX rdfs: <http://www.w3.org/2000/01/rdf-schema#>\n",
      "PREFIX p: <http://www.wikidata.org/prop/>\n",
      "PREFIX ps: <http://www.wikidata.org/prop/statement/>\n",
      "SELECT DISTINCT (SUBSTR(STR(?_qid), 32) AS ?qid)  (str(COALESCE(?_target_col_label, ?_target_col)) AS ?target_col) (SUBSTR(STR(?_target_col_guid), 42) AS ?target_col_guid)\n",
      "WHERE {\n",
      "  \n",
      "  ?_join_col_guid ps:P10660 ?_join_col.\n",
      "  ?_qid p:P10660 ?_join_col_guid.\n",
      "  ?_target_col_guid ps:P937 ?_target_col.\n",
      "  ?_qid p:P937 ?_target_col_guid.\n",
      "  OPTIONAL {\n",
      "    ?_target_col rdfs:label ?_target_col_label. \n",
      "    FILTER (LANG(?_target_col_label) = \"en\") \n",
      "  }\n",
      "}\n"
     ]
    },
    {
     "name": "stderr",
     "output_type": "stream",
     "text": [
      " 42%|████▏     | 15/36 [00:09<00:12,  1.71it/s]"
     ]
    },
    {
     "name": "stdout",
     "output_type": "stream",
     "text": [
      "File downloaded successfully!\n",
      "PREFIX rdfs: <http://www.w3.org/2000/01/rdf-schema#>\n",
      "PREFIX p: <http://www.wikidata.org/prop/>\n",
      "PREFIX ps: <http://www.wikidata.org/prop/statement/>\n",
      "SELECT DISTINCT (SUBSTR(STR(?_qid), 32) AS ?qid)  (str(COALESCE(?_target_col_label, ?_target_col)) AS ?target_col) (SUBSTR(STR(?_target_col_guid), 42) AS ?target_col_guid)\n",
      "WHERE {\n",
      "  \n",
      "  ?_join_col_guid ps:P10660 ?_join_col.\n",
      "  ?_qid p:P10660 ?_join_col_guid.\n",
      "  ?_target_col_guid ps:P1329 ?_target_col.\n",
      "  ?_qid p:P1329 ?_target_col_guid.\n",
      "  OPTIONAL {\n",
      "    ?_target_col rdfs:label ?_target_col_label. \n",
      "    FILTER (LANG(?_target_col_label) = \"en\") \n",
      "  }\n",
      "}\n"
     ]
    },
    {
     "name": "stderr",
     "output_type": "stream",
     "text": [
      " 44%|████▍     | 16/36 [00:09<00:10,  1.84it/s]"
     ]
    },
    {
     "name": "stdout",
     "output_type": "stream",
     "text": [
      "File downloaded successfully!\n",
      "PREFIX rdfs: <http://www.w3.org/2000/01/rdf-schema#>\n",
      "PREFIX p: <http://www.wikidata.org/prop/>\n",
      "PREFIX ps: <http://www.wikidata.org/prop/statement/>\n",
      "SELECT DISTINCT (SUBSTR(STR(?_qid), 32) AS ?qid)  (str(COALESCE(?_target_col_label, ?_target_col)) AS ?target_col) (SUBSTR(STR(?_target_col_guid), 42) AS ?target_col_guid)\n",
      "WHERE {\n",
      "  \n",
      "  ?_join_col_guid ps:P10660 ?_join_col.\n",
      "  ?_qid p:P10660 ?_join_col_guid.\n",
      "  ?_target_col_guid ps:P11266 ?_target_col.\n",
      "  ?_qid p:P11266 ?_target_col_guid.\n",
      "  OPTIONAL {\n",
      "    ?_target_col rdfs:label ?_target_col_label. \n",
      "    FILTER (LANG(?_target_col_label) = \"en\") \n",
      "  }\n",
      "}\n"
     ]
    },
    {
     "name": "stderr",
     "output_type": "stream",
     "text": [
      " 47%|████▋     | 17/36 [00:10<00:09,  1.97it/s]"
     ]
    },
    {
     "name": "stdout",
     "output_type": "stream",
     "text": [
      "File downloaded successfully!\n",
      "PREFIX rdfs: <http://www.w3.org/2000/01/rdf-schema#>\n",
      "PREFIX p: <http://www.wikidata.org/prop/>\n",
      "PREFIX ps: <http://www.wikidata.org/prop/statement/>\n",
      "SELECT DISTINCT (SUBSTR(STR(?_qid), 32) AS ?qid)  (str(COALESCE(?_target_col_label, ?_target_col)) AS ?target_col) (SUBSTR(STR(?_target_col_guid), 42) AS ?target_col_guid)\n",
      "WHERE {\n",
      "  \n",
      "  ?_join_col_guid ps:P10660 ?_join_col.\n",
      "  ?_qid p:P10660 ?_join_col_guid.\n",
      "  ?_target_col_guid ps:P1019 ?_target_col.\n",
      "  ?_qid p:P1019 ?_target_col_guid.\n",
      "  OPTIONAL {\n",
      "    ?_target_col rdfs:label ?_target_col_label. \n",
      "    FILTER (LANG(?_target_col_label) = \"en\") \n",
      "  }\n",
      "}\n"
     ]
    },
    {
     "name": "stderr",
     "output_type": "stream",
     "text": [
      " 50%|█████     | 18/36 [00:10<00:08,  2.08it/s]"
     ]
    },
    {
     "name": "stdout",
     "output_type": "stream",
     "text": [
      "File downloaded successfully!\n",
      "PREFIX rdfs: <http://www.w3.org/2000/01/rdf-schema#>\n",
      "PREFIX p: <http://www.wikidata.org/prop/>\n",
      "PREFIX ps: <http://www.wikidata.org/prop/statement/>\n",
      "SELECT DISTINCT (SUBSTR(STR(?_qid), 32) AS ?qid)  (str(COALESCE(?_target_col_label, ?_target_col)) AS ?target_col) (SUBSTR(STR(?_target_col_guid), 42) AS ?target_col_guid)\n",
      "WHERE {\n",
      "  \n",
      "  ?_join_col_guid ps:P10660 ?_join_col.\n",
      "  ?_qid p:P10660 ?_join_col_guid.\n",
      "  ?_target_col_guid ps:P2002 ?_target_col.\n",
      "  ?_qid p:P2002 ?_target_col_guid.\n",
      "  OPTIONAL {\n",
      "    ?_target_col rdfs:label ?_target_col_label. \n",
      "    FILTER (LANG(?_target_col_label) = \"en\") \n",
      "  }\n",
      "}\n"
     ]
    },
    {
     "name": "stderr",
     "output_type": "stream",
     "text": [
      " 53%|█████▎    | 19/36 [00:11<00:09,  1.77it/s]"
     ]
    },
    {
     "name": "stdout",
     "output_type": "stream",
     "text": [
      "File downloaded successfully!\n",
      "PREFIX rdfs: <http://www.w3.org/2000/01/rdf-schema#>\n",
      "PREFIX p: <http://www.wikidata.org/prop/>\n",
      "PREFIX ps: <http://www.wikidata.org/prop/statement/>\n",
      "SELECT DISTINCT (SUBSTR(STR(?_qid), 32) AS ?qid)  (str(COALESCE(?_target_col_label, ?_target_col)) AS ?target_col) (SUBSTR(STR(?_target_col_guid), 42) AS ?target_col_guid)\n",
      "WHERE {\n",
      "  \n",
      "  ?_join_col_guid ps:P10660 ?_join_col.\n",
      "  ?_qid p:P10660 ?_join_col_guid.\n",
      "  ?_target_col_guid ps:P2013 ?_target_col.\n",
      "  ?_qid p:P2013 ?_target_col_guid.\n",
      "  OPTIONAL {\n",
      "    ?_target_col rdfs:label ?_target_col_label. \n",
      "    FILTER (LANG(?_target_col_label) = \"en\") \n",
      "  }\n",
      "}\n"
     ]
    },
    {
     "name": "stderr",
     "output_type": "stream",
     "text": [
      " 58%|█████▊    | 21/36 [00:12<00:07,  2.09it/s]"
     ]
    },
    {
     "name": "stdout",
     "output_type": "stream",
     "text": [
      "File downloaded successfully!\n",
      "PREFIX rdfs: <http://www.w3.org/2000/01/rdf-schema#>\n",
      "PREFIX p: <http://www.wikidata.org/prop/>\n",
      "PREFIX ps: <http://www.wikidata.org/prop/statement/>\n",
      "SELECT DISTINCT (SUBSTR(STR(?_qid), 32) AS ?qid)  (str(COALESCE(?_target_col_label, ?_target_col)) AS ?target_col) (SUBSTR(STR(?_target_col_guid), 42) AS ?target_col_guid)\n",
      "WHERE {\n",
      "  \n",
      "  ?_join_col_guid ps:P10660 ?_join_col.\n",
      "  ?_qid p:P10660 ?_join_col_guid.\n",
      "  ?_target_col_guid ps:P2397 ?_target_col.\n",
      "  ?_qid p:P2397 ?_target_col_guid.\n",
      "  OPTIONAL {\n",
      "    ?_target_col rdfs:label ?_target_col_label. \n",
      "    FILTER (LANG(?_target_col_label) = \"en\") \n",
      "  }\n",
      "}\n"
     ]
    },
    {
     "name": "stderr",
     "output_type": "stream",
     "text": [
      " 64%|██████▍   | 23/36 [00:12<00:05,  2.38it/s]"
     ]
    },
    {
     "name": "stdout",
     "output_type": "stream",
     "text": [
      "File downloaded successfully!\n",
      "PREFIX rdfs: <http://www.w3.org/2000/01/rdf-schema#>\n",
      "PREFIX p: <http://www.wikidata.org/prop/>\n",
      "PREFIX ps: <http://www.wikidata.org/prop/statement/>\n",
      "SELECT DISTINCT (SUBSTR(STR(?_qid), 32) AS ?qid)  (str(COALESCE(?_target_col_label, ?_target_col)) AS ?target_col) (SUBSTR(STR(?_target_col_guid), 42) AS ?target_col_guid)\n",
      "WHERE {\n",
      "  \n",
      "  ?_join_col_guid ps:P10660 ?_join_col.\n",
      "  ?_qid p:P10660 ?_join_col_guid.\n",
      "  ?_target_col_guid ps:P1855 ?_target_col.\n",
      "  ?_qid p:P1855 ?_target_col_guid.\n",
      "  OPTIONAL {\n",
      "    ?_target_col rdfs:label ?_target_col_label. \n",
      "    FILTER (LANG(?_target_col_label) = \"en\") \n",
      "  }\n",
      "}\n"
     ]
    },
    {
     "name": "stderr",
     "output_type": "stream",
     "text": [
      " 67%|██████▋   | 24/36 [00:13<00:04,  2.40it/s]"
     ]
    },
    {
     "name": "stdout",
     "output_type": "stream",
     "text": [
      "File downloaded successfully!\n",
      "PREFIX rdfs: <http://www.w3.org/2000/01/rdf-schema#>\n",
      "PREFIX p: <http://www.wikidata.org/prop/>\n",
      "PREFIX ps: <http://www.wikidata.org/prop/statement/>\n",
      "SELECT DISTINCT (SUBSTR(STR(?_qid), 32) AS ?qid)  (str(COALESCE(?_target_col_label, ?_target_col)) AS ?target_col) (SUBSTR(STR(?_target_col_guid), 42) AS ?target_col_guid)\n",
      "WHERE {\n",
      "  \n",
      "  ?_join_col_guid ps:P10660 ?_join_col.\n",
      "  ?_qid p:P10660 ?_join_col_guid.\n",
      "  ?_target_col_guid ps:P1157 ?_target_col.\n",
      "  ?_qid p:P1157 ?_target_col_guid.\n",
      "  OPTIONAL {\n",
      "    ?_target_col rdfs:label ?_target_col_label. \n",
      "    FILTER (LANG(?_target_col_label) = \"en\") \n",
      "  }\n",
      "}\n"
     ]
    },
    {
     "name": "stderr",
     "output_type": "stream",
     "text": [
      " 69%|██████▉   | 25/36 [00:13<00:05,  2.12it/s]"
     ]
    },
    {
     "name": "stdout",
     "output_type": "stream",
     "text": [
      "File downloaded successfully!\n",
      "PREFIX rdfs: <http://www.w3.org/2000/01/rdf-schema#>\n",
      "PREFIX p: <http://www.wikidata.org/prop/>\n",
      "PREFIX ps: <http://www.wikidata.org/prop/statement/>\n",
      "SELECT DISTINCT (SUBSTR(STR(?_qid), 32) AS ?qid)  (str(COALESCE(?_target_col_label, ?_target_col)) AS ?target_col) (SUBSTR(STR(?_target_col_guid), 42) AS ?target_col_guid)\n",
      "WHERE {\n",
      "  \n",
      "  ?_join_col_guid ps:P10660 ?_join_col.\n",
      "  ?_qid p:P10660 ?_join_col_guid.\n",
      "  ?_target_col_guid ps:P2686 ?_target_col.\n",
      "  ?_qid p:P2686 ?_target_col_guid.\n",
      "  OPTIONAL {\n",
      "    ?_target_col rdfs:label ?_target_col_label. \n",
      "    FILTER (LANG(?_target_col_label) = \"en\") \n",
      "  }\n",
      "}\n"
     ]
    },
    {
     "name": "stderr",
     "output_type": "stream",
     "text": [
      " 75%|███████▌  | 27/36 [00:14<00:03,  2.58it/s]"
     ]
    },
    {
     "name": "stdout",
     "output_type": "stream",
     "text": [
      "File downloaded successfully!\n",
      "PREFIX rdfs: <http://www.w3.org/2000/01/rdf-schema#>\n",
      "PREFIX p: <http://www.wikidata.org/prop/>\n",
      "PREFIX ps: <http://www.wikidata.org/prop/statement/>\n",
      "SELECT DISTINCT (SUBSTR(STR(?_qid), 32) AS ?qid)  (str(COALESCE(?_target_col_label, ?_target_col)) AS ?target_col) (SUBSTR(STR(?_target_col_guid), 42) AS ?target_col_guid)\n",
      "WHERE {\n",
      "  \n",
      "  ?_join_col_guid ps:P10660 ?_join_col.\n",
      "  ?_qid p:P10660 ?_join_col_guid.\n",
      "  ?_target_col_guid ps:P10660 ?_target_col.\n",
      "  ?_qid p:P10660 ?_target_col_guid.\n",
      "  OPTIONAL {\n",
      "    ?_target_col rdfs:label ?_target_col_label. \n",
      "    FILTER (LANG(?_target_col_label) = \"en\") \n",
      "  }\n",
      "}\n"
     ]
    },
    {
     "name": "stderr",
     "output_type": "stream",
     "text": [
      " 83%|████████▎ | 30/36 [00:15<00:02,  2.65it/s]"
     ]
    },
    {
     "name": "stdout",
     "output_type": "stream",
     "text": [
      "File downloaded successfully!\n",
      "PREFIX rdfs: <http://www.w3.org/2000/01/rdf-schema#>\n",
      "PREFIX p: <http://www.wikidata.org/prop/>\n",
      "PREFIX ps: <http://www.wikidata.org/prop/statement/>\n",
      "SELECT DISTINCT (SUBSTR(STR(?_qid), 32) AS ?qid)  (str(COALESCE(?_target_col_label, ?_target_col)) AS ?target_col) (SUBSTR(STR(?_target_col_guid), 42) AS ?target_col_guid)\n",
      "WHERE {\n",
      "  \n",
      "  ?_join_col_guid ps:P10660 ?_join_col.\n",
      "  ?_qid p:P10660 ?_join_col_guid.\n",
      "  ?_target_col_guid ps:P3344 ?_target_col.\n",
      "  ?_qid p:P3344 ?_target_col_guid.\n",
      "  OPTIONAL {\n",
      "    ?_target_col rdfs:label ?_target_col_label. \n",
      "    FILTER (LANG(?_target_col_label) = \"en\") \n",
      "  }\n",
      "}\n"
     ]
    },
    {
     "name": "stderr",
     "output_type": "stream",
     "text": [
      " 89%|████████▉ | 32/36 [00:16<00:01,  2.77it/s]"
     ]
    },
    {
     "name": "stdout",
     "output_type": "stream",
     "text": [
      "File downloaded successfully!\n",
      "PREFIX rdfs: <http://www.w3.org/2000/01/rdf-schema#>\n",
      "PREFIX p: <http://www.wikidata.org/prop/>\n",
      "PREFIX ps: <http://www.wikidata.org/prop/statement/>\n",
      "SELECT DISTINCT (SUBSTR(STR(?_qid), 32) AS ?qid)  (str(COALESCE(?_target_col_label, ?_target_col)) AS ?target_col) (SUBSTR(STR(?_target_col_guid), 42) AS ?target_col_guid)\n",
      "WHERE {\n",
      "  \n",
      "  ?_join_col_guid ps:P10660 ?_join_col.\n",
      "  ?_qid p:P10660 ?_join_col_guid.\n",
      "  ?_target_col_guid ps:P2390 ?_target_col.\n",
      "  ?_qid p:P2390 ?_target_col_guid.\n",
      "  OPTIONAL {\n",
      "    ?_target_col rdfs:label ?_target_col_label. \n",
      "    FILTER (LANG(?_target_col_label) = \"en\") \n",
      "  }\n",
      "}\n"
     ]
    },
    {
     "name": "stderr",
     "output_type": "stream",
     "text": [
      "100%|██████████| 36/36 [00:16<00:00,  2.14it/s]"
     ]
    },
    {
     "name": "stdout",
     "output_type": "stream",
     "text": [
      "File downloaded successfully!\n"
     ]
    },
    {
     "name": "stderr",
     "output_type": "stream",
     "text": [
      "\n"
     ]
    }
   ],
   "source": [
    "def dlWd(pids):\n",
    "    for pid in tqdm(pids):\n",
    "        if len(pid) == 0 or \".\" in pid:\n",
    "            continue\n",
    "        downloadTemplate(joinProp, pid, pid)\n",
    "\n",
    "\n",
    "dlWd(list(map(lambda col: colNamePid[col][\"p\"], politicians.columns)))"
   ]
  },
  {
   "cell_type": "code",
   "execution_count": null,
   "id": "07992034-0e9f-4e93-bd4d-6e4c5ae52e5d",
   "metadata": {},
   "outputs": [],
   "source": []
  }
 ],
 "metadata": {
  "kernelspec": {
   "display_name": "seminar",
   "language": "python",
   "name": "seminar"
  },
  "language_info": {
   "codemirror_mode": {
    "name": "ipython",
    "version": 3
   },
   "file_extension": ".py",
   "mimetype": "text/x-python",
   "name": "python",
   "nbconvert_exporter": "python",
   "pygments_lexer": "ipython3",
   "version": "3.11.5"
  }
 },
 "nbformat": 4,
 "nbformat_minor": 5
}
